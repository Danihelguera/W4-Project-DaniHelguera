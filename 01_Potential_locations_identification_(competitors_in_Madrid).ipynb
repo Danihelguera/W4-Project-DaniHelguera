{
 "cells": [
  {
   "cell_type": "markdown",
   "id": "46fd52af",
   "metadata": {},
   "source": [
    "# Searching for potential locations for the new office"
   ]
  },
  {
   "cell_type": "markdown",
   "id": "865ef8ed",
   "metadata": {},
   "source": [
    "In this project we have to find a new location for our company.\n",
    "\n",
    "It should fit several conditions in the best way.\n",
    "\n",
    "\n",
    "We will use the data base Companies in MongoDB to find similar companies.\n",
    "\n",
    "Our company is related to gaming industry.\n",
    "\n",
    "It has to be placed in Madrid, Spain."
   ]
  },
  {
   "cell_type": "code",
   "execution_count": 1,
   "id": "c5398d6e",
   "metadata": {},
   "outputs": [],
   "source": [
    "from pymongo import MongoClient\n",
    "from src import api_functions as af\n",
    "import pandas as pd\n",
    "import json"
   ]
  },
  {
   "cell_type": "code",
   "execution_count": 2,
   "id": "35c821a5",
   "metadata": {},
   "outputs": [],
   "source": [
    "client = MongoClient(\"localhost:27017\")\n",
    "db = client.get_database(\"Ironhack\")\n",
    "c = db.get_collection(\"Companies\")"
   ]
  },
  {
   "cell_type": "code",
   "execution_count": 3,
   "id": "0f08a34a",
   "metadata": {},
   "outputs": [
    {
     "data": {
      "text/plain": [
       "18801"
      ]
     },
     "execution_count": 3,
     "metadata": {},
     "output_type": "execute_result"
    }
   ],
   "source": [
    "target_competitors = {\"_id\":0, \"name\":1, \"category_code\":1, \"offices\":1}\n",
    "competitors        = list(c.find({},target_competitors))\n",
    "len(competitors)"
   ]
  },
  {
   "cell_type": "code",
   "execution_count": 4,
   "id": "2038f19f",
   "metadata": {},
   "outputs": [
    {
     "name": "stdout",
     "output_type": "stream",
     "text": [
      "(18801, 12)\n"
     ]
    }
   ],
   "source": [
    "competitors_df                 = pd.DataFrame(competitors)\n",
    "competitors_df[\"qt_offices\"]   = competitors_df.apply(lambda fila : len(fila.offices) , axis=1)\n",
    "competitors_df[\"country_code\"] = competitors_df.apply(lambda fila : fila.offices[0][\"country_code\"] if len(fila.offices)>0 else \"\", axis=1)\n",
    "competitors_df[\"address1\"]     = competitors_df.apply(lambda fila : fila.offices[0][\"address1\"]     if len(fila.offices)>0 else \"\", axis=1)\n",
    "competitors_df[\"address2\"]     = competitors_df.apply(lambda fila : fila.offices[0][\"address2\"]     if len(fila.offices)>0 else \"\", axis=1)\n",
    "competitors_df[\"city\"]         = competitors_df.apply(lambda fila : fila.offices[0][\"city\"]         if len(fila.offices)>0 else \"\", axis=1)\n",
    "competitors_df[\"zip_code\"]     = competitors_df.apply(lambda fila : fila.offices[0][\"zip_code\"]     if len(fila.offices)>0 else \"\", axis=1)\n",
    "competitors_df[\"latitude\"]     = competitors_df.apply(lambda fila : fila.offices[0][\"latitude\"]     if len(fila.offices)>0 else \"\", axis=1)\n",
    "competitors_df[\"longitude\"]    = competitors_df.apply(lambda fila : fila.offices[0][\"longitude\"]    if len(fila.offices)>0 else \"\", axis=1)\n",
    "competitors_df[\"punto\"]        = competitors_df.apply(lambda fila : af.type_point([fila[\"latitude\"] , fila['longitude']]), axis=1)\n",
    "\n",
    "print(competitors_df.shape)"
   ]
  },
  {
   "cell_type": "code",
   "execution_count": 5,
   "id": "2c6c73f4",
   "metadata": {},
   "outputs": [
    {
     "name": "stdout",
     "output_type": "stream",
     "text": [
      "(58, 12)\n"
     ]
    }
   ],
   "source": [
    "#filtering to have just the companies located in Madrid.\n",
    "competitors_df                 = competitors_df[competitors_df[\"city\"] == 'Madrid']\n",
    "competitors_df.reset_index(drop=True , inplace = True)\n",
    "\n",
    "print(competitors_df.shape)"
   ]
  },
  {
   "cell_type": "code",
   "execution_count": 6,
   "id": "1e2609c4",
   "metadata": {},
   "outputs": [
    {
     "data": {
      "text/plain": [
       "array(['mobile', 'public_relations', 'web', 'games_video', 'enterprise',\n",
       "       'software', 'ecommerce', 'consulting', 'social', 'advertising',\n",
       "       'finance', 'other', 'cleantech'], dtype=object)"
      ]
     },
     "execution_count": 6,
     "metadata": {},
     "output_type": "execute_result"
    }
   ],
   "source": [
    "competitors_df.category_code.unique()"
   ]
  },
  {
   "cell_type": "code",
   "execution_count": 7,
   "id": "ef80ff20",
   "metadata": {},
   "outputs": [
    {
     "name": "stdout",
     "output_type": "stream",
     "text": [
      "(5, 12)\n"
     ]
    }
   ],
   "source": [
    "#filtering to have just the \"games_video\" related companies, our competitors.\n",
    "competitors_df = competitors_df[competitors_df[\"category_code\"] == 'games_video']\n",
    "competitors_df.reset_index(drop=True , inplace = True)\n",
    "print(competitors_df.shape)\n",
    "\n",
    "#just fix one value with weird caracters to avoid later problems with geocode api:\n",
    "competitors_df.loc[[1],[\"address1\"]] = \"calle Princesa, 31\" "
   ]
  },
  {
   "cell_type": "markdown",
   "id": "e62631c5",
   "metadata": {},
   "source": [
    "## Using Geocode API to find the latitude and longitud of some elements that are None\n"
   ]
  },
  {
   "cell_type": "code",
   "execution_count": 8,
   "id": "7c22125c",
   "metadata": {},
   "outputs": [
    {
     "name": "stdout",
     "output_type": "stream",
     "text": [
      "Latitud : 40.43094 , Longitud: -3.6952896 correctos.\n",
      "     Latitud o Longitud es none. Llamamos a geocode con la direccion.\n",
      "Latitud : 40.42792 , Longitud: -3.7141 CORREGIDOS.\n",
      "Latitud : 40.4380872 , Longitud: -3.6760635 correctos.\n",
      "Latitud : 40.4273082 , Longitud: -3.6895115 correctos.\n",
      "Latitud : 40.6367104 , Longitud: -3.9980485 correctos.\n"
     ]
    },
    {
     "data": {
      "text/html": [
       "<div>\n",
       "<style scoped>\n",
       "    .dataframe tbody tr th:only-of-type {\n",
       "        vertical-align: middle;\n",
       "    }\n",
       "\n",
       "    .dataframe tbody tr th {\n",
       "        vertical-align: top;\n",
       "    }\n",
       "\n",
       "    .dataframe thead th {\n",
       "        text-align: right;\n",
       "    }\n",
       "</style>\n",
       "<table border=\"1\" class=\"dataframe\">\n",
       "  <thead>\n",
       "    <tr style=\"text-align: right;\">\n",
       "      <th></th>\n",
       "      <th>name</th>\n",
       "      <th>latitude</th>\n",
       "      <th>longitude</th>\n",
       "      <th>punto</th>\n",
       "    </tr>\n",
       "  </thead>\n",
       "  <tbody>\n",
       "    <tr>\n",
       "      <th>0</th>\n",
       "      <td>eRepublik</td>\n",
       "      <td>40.430940</td>\n",
       "      <td>-3.695290</td>\n",
       "      <td>{'type': 'Point', 'coordinates': [40.43094, -3...</td>\n",
       "    </tr>\n",
       "    <tr>\n",
       "      <th>1</th>\n",
       "      <td>VivoCom</td>\n",
       "      <td>40.427920</td>\n",
       "      <td>-3.714100</td>\n",
       "      <td>{'type': 'Point', 'coordinates': [40.42792, -3...</td>\n",
       "    </tr>\n",
       "    <tr>\n",
       "      <th>2</th>\n",
       "      <td>Entropy Computational Services</td>\n",
       "      <td>40.438087</td>\n",
       "      <td>-3.676064</td>\n",
       "      <td>{'type': 'Point', 'coordinates': [40.4380872, ...</td>\n",
       "    </tr>\n",
       "    <tr>\n",
       "      <th>3</th>\n",
       "      <td>Virgin Play</td>\n",
       "      <td>40.427308</td>\n",
       "      <td>-3.689512</td>\n",
       "      <td>{'type': 'Point', 'coordinates': [40.4273082, ...</td>\n",
       "    </tr>\n",
       "    <tr>\n",
       "      <th>4</th>\n",
       "      <td>Undead Code Studios</td>\n",
       "      <td>40.636710</td>\n",
       "      <td>-3.998048</td>\n",
       "      <td>{'type': 'Point', 'coordinates': [40.6367104, ...</td>\n",
       "    </tr>\n",
       "  </tbody>\n",
       "</table>\n",
       "</div>"
      ],
      "text/plain": [
       "                             name   latitude  longitude  \\\n",
       "0                       eRepublik  40.430940  -3.695290   \n",
       "1                         VivoCom  40.427920  -3.714100   \n",
       "2  Entropy Computational Services  40.438087  -3.676064   \n",
       "3                     Virgin Play  40.427308  -3.689512   \n",
       "4             Undead Code Studios  40.636710  -3.998048   \n",
       "\n",
       "                                               punto  \n",
       "0  {'type': 'Point', 'coordinates': [40.43094, -3...  \n",
       "1  {'type': 'Point', 'coordinates': [40.42792, -3...  \n",
       "2  {'type': 'Point', 'coordinates': [40.4380872, ...  \n",
       "3  {'type': 'Point', 'coordinates': [40.4273082, ...  \n",
       "4  {'type': 'Point', 'coordinates': [40.6367104, ...  "
      ]
     },
     "execution_count": 8,
     "metadata": {},
     "output_type": "execute_result"
    }
   ],
   "source": [
    "competitors_df[\"punto\"]     = competitors_df.apply(af.corregir_lat_long , axis=1)\n",
    "competitors_df[\"latitude\"]  = competitors_df.apply(af.sacar_lat , axis=1)\n",
    "competitors_df[\"longitude\"] = competitors_df.apply(af.sacar_long , axis=1)\n",
    "\n",
    "#cleaning innecessary columns:\n",
    "competitors_df.drop(columns=['category_code',\n",
    "                             'offices',\n",
    "                             \"qt_offices\",\n",
    "                             'city' ,\n",
    "                             'country_code' ,\n",
    "                             'address1' , \n",
    "                             'address2' ,\n",
    "                             'zip_code'] , \n",
    "                    inplace = True)\n",
    "\n",
    "competitors_df\n"
   ]
  },
  {
   "cell_type": "markdown",
   "id": "371446ec",
   "metadata": {},
   "source": [
    "## A list of the competitors locations, including lat&long is ready. Export to csv.\n"
   ]
  },
  {
   "cell_type": "code",
   "execution_count": 19,
   "id": "5d4773e9",
   "metadata": {},
   "outputs": [],
   "source": [
    "competitors_df.to_csv(\"data/competitors.csv\",index=False)\n",
    "competitors_js = competitors_df.to_json(orient = 'records')\n",
    "with open (\"data/competitors.json\",\"w\") as f:    # creating an empty file\n",
    "    json.dump(competitors_js,f)                  # in order to export all the data downloaded from the api.\n"
   ]
  },
  {
   "cell_type": "markdown",
   "id": "802763a5",
   "metadata": {},
   "source": [
    "## Ploting a map with the competitors locations"
   ]
  },
  {
   "cell_type": "code",
   "execution_count": 10,
   "id": "4c511f90",
   "metadata": {},
   "outputs": [],
   "source": [
    "import folium\n",
    "from folium import Choropleth, Circle, Marker, Icon, Map"
   ]
  },
  {
   "cell_type": "code",
   "execution_count": 11,
   "id": "b6255a30",
   "metadata": {},
   "outputs": [],
   "source": [
    "latitud_central = competitors_df.latitude.mean()\n",
    "longitud_central = competitors_df.longitude.mean()\n",
    "\n",
    "map = folium.Map(location=[ latitud_central , longitud_central ] , zoom_start=10)"
   ]
  },
  {
   "cell_type": "code",
   "execution_count": 12,
   "id": "667e6fe3",
   "metadata": {},
   "outputs": [
    {
     "data": {
      "text/html": [
       "<div style=\"width:100%;\"><div style=\"position:relative;width:100%;height:0;padding-bottom:60%;\"><span style=\"color:#565656\">Make this Notebook Trusted to load map: File -> Trust Notebook</span><iframe src=\"about:blank\" style=\"position:absolute;width:100%;height:100%;left:0;top:0;border:none !important;\" data-html=%3C%21DOCTYPE%20html%3E%0A%3Chead%3E%20%20%20%20%0A%20%20%20%20%3Cmeta%20http-equiv%3D%22content-type%22%20content%3D%22text/html%3B%20charset%3DUTF-8%22%20/%3E%0A%20%20%20%20%0A%20%20%20%20%20%20%20%20%3Cscript%3E%0A%20%20%20%20%20%20%20%20%20%20%20%20L_NO_TOUCH%20%3D%20false%3B%0A%20%20%20%20%20%20%20%20%20%20%20%20L_DISABLE_3D%20%3D%20false%3B%0A%20%20%20%20%20%20%20%20%3C/script%3E%0A%20%20%20%20%0A%20%20%20%20%3Cstyle%3Ehtml%2C%20body%20%7Bwidth%3A%20100%25%3Bheight%3A%20100%25%3Bmargin%3A%200%3Bpadding%3A%200%3B%7D%3C/style%3E%0A%20%20%20%20%3Cstyle%3E%23map%20%7Bposition%3Aabsolute%3Btop%3A0%3Bbottom%3A0%3Bright%3A0%3Bleft%3A0%3B%7D%3C/style%3E%0A%20%20%20%20%3Cscript%20src%3D%22https%3A//cdn.jsdelivr.net/npm/leaflet%401.6.0/dist/leaflet.js%22%3E%3C/script%3E%0A%20%20%20%20%3Cscript%20src%3D%22https%3A//code.jquery.com/jquery-1.12.4.min.js%22%3E%3C/script%3E%0A%20%20%20%20%3Cscript%20src%3D%22https%3A//maxcdn.bootstrapcdn.com/bootstrap/3.2.0/js/bootstrap.min.js%22%3E%3C/script%3E%0A%20%20%20%20%3Cscript%20src%3D%22https%3A//cdnjs.cloudflare.com/ajax/libs/Leaflet.awesome-markers/2.0.2/leaflet.awesome-markers.js%22%3E%3C/script%3E%0A%20%20%20%20%3Clink%20rel%3D%22stylesheet%22%20href%3D%22https%3A//cdn.jsdelivr.net/npm/leaflet%401.6.0/dist/leaflet.css%22/%3E%0A%20%20%20%20%3Clink%20rel%3D%22stylesheet%22%20href%3D%22https%3A//maxcdn.bootstrapcdn.com/bootstrap/3.2.0/css/bootstrap.min.css%22/%3E%0A%20%20%20%20%3Clink%20rel%3D%22stylesheet%22%20href%3D%22https%3A//maxcdn.bootstrapcdn.com/bootstrap/3.2.0/css/bootstrap-theme.min.css%22/%3E%0A%20%20%20%20%3Clink%20rel%3D%22stylesheet%22%20href%3D%22https%3A//maxcdn.bootstrapcdn.com/font-awesome/4.6.3/css/font-awesome.min.css%22/%3E%0A%20%20%20%20%3Clink%20rel%3D%22stylesheet%22%20href%3D%22https%3A//cdnjs.cloudflare.com/ajax/libs/Leaflet.awesome-markers/2.0.2/leaflet.awesome-markers.css%22/%3E%0A%20%20%20%20%3Clink%20rel%3D%22stylesheet%22%20href%3D%22https%3A//cdn.jsdelivr.net/gh/python-visualization/folium/folium/templates/leaflet.awesome.rotate.min.css%22/%3E%0A%20%20%20%20%0A%20%20%20%20%20%20%20%20%20%20%20%20%3Cmeta%20name%3D%22viewport%22%20content%3D%22width%3Ddevice-width%2C%0A%20%20%20%20%20%20%20%20%20%20%20%20%20%20%20%20initial-scale%3D1.0%2C%20maximum-scale%3D1.0%2C%20user-scalable%3Dno%22%20/%3E%0A%20%20%20%20%20%20%20%20%20%20%20%20%3Cstyle%3E%0A%20%20%20%20%20%20%20%20%20%20%20%20%20%20%20%20%23map_a0ea76f4661942ca906bb63bd00edf8c%20%7B%0A%20%20%20%20%20%20%20%20%20%20%20%20%20%20%20%20%20%20%20%20position%3A%20relative%3B%0A%20%20%20%20%20%20%20%20%20%20%20%20%20%20%20%20%20%20%20%20width%3A%20100.0%25%3B%0A%20%20%20%20%20%20%20%20%20%20%20%20%20%20%20%20%20%20%20%20height%3A%20100.0%25%3B%0A%20%20%20%20%20%20%20%20%20%20%20%20%20%20%20%20%20%20%20%20left%3A%200.0%25%3B%0A%20%20%20%20%20%20%20%20%20%20%20%20%20%20%20%20%20%20%20%20top%3A%200.0%25%3B%0A%20%20%20%20%20%20%20%20%20%20%20%20%20%20%20%20%7D%0A%20%20%20%20%20%20%20%20%20%20%20%20%3C/style%3E%0A%20%20%20%20%20%20%20%20%0A%3C/head%3E%0A%3Cbody%3E%20%20%20%20%0A%20%20%20%20%0A%20%20%20%20%20%20%20%20%20%20%20%20%3Cdiv%20class%3D%22folium-map%22%20id%3D%22map_a0ea76f4661942ca906bb63bd00edf8c%22%20%3E%3C/div%3E%0A%20%20%20%20%20%20%20%20%0A%3C/body%3E%0A%3Cscript%3E%20%20%20%20%0A%20%20%20%20%0A%20%20%20%20%20%20%20%20%20%20%20%20var%20map_a0ea76f4661942ca906bb63bd00edf8c%20%3D%20L.map%28%0A%20%20%20%20%20%20%20%20%20%20%20%20%20%20%20%20%22map_a0ea76f4661942ca906bb63bd00edf8c%22%2C%0A%20%20%20%20%20%20%20%20%20%20%20%20%20%20%20%20%7B%0A%20%20%20%20%20%20%20%20%20%20%20%20%20%20%20%20%20%20%20%20center%3A%20%5B40.47219316%2C%20-3.75460262%5D%2C%0A%20%20%20%20%20%20%20%20%20%20%20%20%20%20%20%20%20%20%20%20crs%3A%20L.CRS.EPSG3857%2C%0A%20%20%20%20%20%20%20%20%20%20%20%20%20%20%20%20%20%20%20%20zoom%3A%2010%2C%0A%20%20%20%20%20%20%20%20%20%20%20%20%20%20%20%20%20%20%20%20zoomControl%3A%20true%2C%0A%20%20%20%20%20%20%20%20%20%20%20%20%20%20%20%20%20%20%20%20preferCanvas%3A%20false%2C%0A%20%20%20%20%20%20%20%20%20%20%20%20%20%20%20%20%7D%0A%20%20%20%20%20%20%20%20%20%20%20%20%29%3B%0A%0A%20%20%20%20%20%20%20%20%20%20%20%20%0A%0A%20%20%20%20%20%20%20%20%0A%20%20%20%20%0A%20%20%20%20%20%20%20%20%20%20%20%20var%20tile_layer_37339ca941e04710a957332e66c632da%20%3D%20L.tileLayer%28%0A%20%20%20%20%20%20%20%20%20%20%20%20%20%20%20%20%22https%3A//%7Bs%7D.tile.openstreetmap.org/%7Bz%7D/%7Bx%7D/%7By%7D.png%22%2C%0A%20%20%20%20%20%20%20%20%20%20%20%20%20%20%20%20%7B%22attribution%22%3A%20%22Data%20by%20%5Cu0026copy%3B%20%5Cu003ca%20href%3D%5C%22http%3A//openstreetmap.org%5C%22%5Cu003eOpenStreetMap%5Cu003c/a%5Cu003e%2C%20under%20%5Cu003ca%20href%3D%5C%22http%3A//www.openstreetmap.org/copyright%5C%22%5Cu003eODbL%5Cu003c/a%5Cu003e.%22%2C%20%22detectRetina%22%3A%20false%2C%20%22maxNativeZoom%22%3A%2018%2C%20%22maxZoom%22%3A%2018%2C%20%22minZoom%22%3A%200%2C%20%22noWrap%22%3A%20false%2C%20%22opacity%22%3A%201%2C%20%22subdomains%22%3A%20%22abc%22%2C%20%22tms%22%3A%20false%7D%0A%20%20%20%20%20%20%20%20%20%20%20%20%29.addTo%28map_a0ea76f4661942ca906bb63bd00edf8c%29%3B%0A%20%20%20%20%20%20%20%20%0A%20%20%20%20%0A%20%20%20%20%20%20%20%20%20%20%20%20var%20marker_634d3c1287694afdbf491091811a1e96%20%3D%20L.marker%28%0A%20%20%20%20%20%20%20%20%20%20%20%20%20%20%20%20%5B40.43094%2C%20-3.6952896%5D%2C%0A%20%20%20%20%20%20%20%20%20%20%20%20%20%20%20%20%7B%7D%0A%20%20%20%20%20%20%20%20%20%20%20%20%29.addTo%28map_a0ea76f4661942ca906bb63bd00edf8c%29%3B%0A%20%20%20%20%20%20%20%20%0A%20%20%20%20%0A%20%20%20%20%20%20%20%20%20%20%20%20var%20icon_24aeccd5658141eaa9e3203919287f18%20%3D%20L.AwesomeMarkers.icon%28%0A%20%20%20%20%20%20%20%20%20%20%20%20%20%20%20%20%7B%22extraClasses%22%3A%20%22fa-rotate-0%22%2C%20%22icon%22%3A%20%22gamepad%22%2C%20%22iconColor%22%3A%20%22black%22%2C%20%22markerColor%22%3A%20%22green%22%2C%20%22opacity%22%3A%200.3%2C%20%22prefix%22%3A%20%22fa%22%7D%0A%20%20%20%20%20%20%20%20%20%20%20%20%29%3B%0A%20%20%20%20%20%20%20%20%20%20%20%20marker_634d3c1287694afdbf491091811a1e96.setIcon%28icon_24aeccd5658141eaa9e3203919287f18%29%3B%0A%20%20%20%20%20%20%20%20%0A%20%20%20%20%0A%20%20%20%20%20%20%20%20%20%20%20%20marker_634d3c1287694afdbf491091811a1e96.bindTooltip%28%0A%20%20%20%20%20%20%20%20%20%20%20%20%20%20%20%20%60%3Cdiv%3E%0A%20%20%20%20%20%20%20%20%20%20%20%20%20%20%20%20%20%20%20%20%20eRepublik%0A%20%20%20%20%20%20%20%20%20%20%20%20%20%20%20%20%20%3C/div%3E%60%2C%0A%20%20%20%20%20%20%20%20%20%20%20%20%20%20%20%20%7B%22sticky%22%3A%20true%7D%0A%20%20%20%20%20%20%20%20%20%20%20%20%29%3B%0A%20%20%20%20%20%20%20%20%0A%20%20%20%20%0A%20%20%20%20%20%20%20%20%20%20%20%20var%20marker_5b293f630ec2467fbf6c8e6f01590f80%20%3D%20L.marker%28%0A%20%20%20%20%20%20%20%20%20%20%20%20%20%20%20%20%5B40.42792%2C%20-3.7141%5D%2C%0A%20%20%20%20%20%20%20%20%20%20%20%20%20%20%20%20%7B%7D%0A%20%20%20%20%20%20%20%20%20%20%20%20%29.addTo%28map_a0ea76f4661942ca906bb63bd00edf8c%29%3B%0A%20%20%20%20%20%20%20%20%0A%20%20%20%20%0A%20%20%20%20%20%20%20%20%20%20%20%20var%20icon_619e67371ea744ad9c9f24b47157d1f1%20%3D%20L.AwesomeMarkers.icon%28%0A%20%20%20%20%20%20%20%20%20%20%20%20%20%20%20%20%7B%22extraClasses%22%3A%20%22fa-rotate-0%22%2C%20%22icon%22%3A%20%22gamepad%22%2C%20%22iconColor%22%3A%20%22black%22%2C%20%22markerColor%22%3A%20%22green%22%2C%20%22opacity%22%3A%200.3%2C%20%22prefix%22%3A%20%22fa%22%7D%0A%20%20%20%20%20%20%20%20%20%20%20%20%29%3B%0A%20%20%20%20%20%20%20%20%20%20%20%20marker_5b293f630ec2467fbf6c8e6f01590f80.setIcon%28icon_619e67371ea744ad9c9f24b47157d1f1%29%3B%0A%20%20%20%20%20%20%20%20%0A%20%20%20%20%0A%20%20%20%20%20%20%20%20%20%20%20%20marker_5b293f630ec2467fbf6c8e6f01590f80.bindTooltip%28%0A%20%20%20%20%20%20%20%20%20%20%20%20%20%20%20%20%60%3Cdiv%3E%0A%20%20%20%20%20%20%20%20%20%20%20%20%20%20%20%20%20%20%20%20%20VivoCom%0A%20%20%20%20%20%20%20%20%20%20%20%20%20%20%20%20%20%3C/div%3E%60%2C%0A%20%20%20%20%20%20%20%20%20%20%20%20%20%20%20%20%7B%22sticky%22%3A%20true%7D%0A%20%20%20%20%20%20%20%20%20%20%20%20%29%3B%0A%20%20%20%20%20%20%20%20%0A%20%20%20%20%0A%20%20%20%20%20%20%20%20%20%20%20%20var%20marker_cec2609030a84d2fb0dde1aab489eddf%20%3D%20L.marker%28%0A%20%20%20%20%20%20%20%20%20%20%20%20%20%20%20%20%5B40.4380872%2C%20-3.6760635%5D%2C%0A%20%20%20%20%20%20%20%20%20%20%20%20%20%20%20%20%7B%7D%0A%20%20%20%20%20%20%20%20%20%20%20%20%29.addTo%28map_a0ea76f4661942ca906bb63bd00edf8c%29%3B%0A%20%20%20%20%20%20%20%20%0A%20%20%20%20%0A%20%20%20%20%20%20%20%20%20%20%20%20var%20icon_230054f856a6444eb31a04944ddc862d%20%3D%20L.AwesomeMarkers.icon%28%0A%20%20%20%20%20%20%20%20%20%20%20%20%20%20%20%20%7B%22extraClasses%22%3A%20%22fa-rotate-0%22%2C%20%22icon%22%3A%20%22gamepad%22%2C%20%22iconColor%22%3A%20%22black%22%2C%20%22markerColor%22%3A%20%22green%22%2C%20%22opacity%22%3A%200.3%2C%20%22prefix%22%3A%20%22fa%22%7D%0A%20%20%20%20%20%20%20%20%20%20%20%20%29%3B%0A%20%20%20%20%20%20%20%20%20%20%20%20marker_cec2609030a84d2fb0dde1aab489eddf.setIcon%28icon_230054f856a6444eb31a04944ddc862d%29%3B%0A%20%20%20%20%20%20%20%20%0A%20%20%20%20%0A%20%20%20%20%20%20%20%20%20%20%20%20marker_cec2609030a84d2fb0dde1aab489eddf.bindTooltip%28%0A%20%20%20%20%20%20%20%20%20%20%20%20%20%20%20%20%60%3Cdiv%3E%0A%20%20%20%20%20%20%20%20%20%20%20%20%20%20%20%20%20%20%20%20%20Entropy%20Computational%20Services%0A%20%20%20%20%20%20%20%20%20%20%20%20%20%20%20%20%20%3C/div%3E%60%2C%0A%20%20%20%20%20%20%20%20%20%20%20%20%20%20%20%20%7B%22sticky%22%3A%20true%7D%0A%20%20%20%20%20%20%20%20%20%20%20%20%29%3B%0A%20%20%20%20%20%20%20%20%0A%20%20%20%20%0A%20%20%20%20%20%20%20%20%20%20%20%20var%20marker_c3bfddcc01f545cebfab5358c778a9d7%20%3D%20L.marker%28%0A%20%20%20%20%20%20%20%20%20%20%20%20%20%20%20%20%5B40.4273082%2C%20-3.6895115%5D%2C%0A%20%20%20%20%20%20%20%20%20%20%20%20%20%20%20%20%7B%7D%0A%20%20%20%20%20%20%20%20%20%20%20%20%29.addTo%28map_a0ea76f4661942ca906bb63bd00edf8c%29%3B%0A%20%20%20%20%20%20%20%20%0A%20%20%20%20%0A%20%20%20%20%20%20%20%20%20%20%20%20var%20icon_3188db87c57d4d249bed8477c76964c3%20%3D%20L.AwesomeMarkers.icon%28%0A%20%20%20%20%20%20%20%20%20%20%20%20%20%20%20%20%7B%22extraClasses%22%3A%20%22fa-rotate-0%22%2C%20%22icon%22%3A%20%22gamepad%22%2C%20%22iconColor%22%3A%20%22black%22%2C%20%22markerColor%22%3A%20%22green%22%2C%20%22opacity%22%3A%200.3%2C%20%22prefix%22%3A%20%22fa%22%7D%0A%20%20%20%20%20%20%20%20%20%20%20%20%29%3B%0A%20%20%20%20%20%20%20%20%20%20%20%20marker_c3bfddcc01f545cebfab5358c778a9d7.setIcon%28icon_3188db87c57d4d249bed8477c76964c3%29%3B%0A%20%20%20%20%20%20%20%20%0A%20%20%20%20%0A%20%20%20%20%20%20%20%20%20%20%20%20marker_c3bfddcc01f545cebfab5358c778a9d7.bindTooltip%28%0A%20%20%20%20%20%20%20%20%20%20%20%20%20%20%20%20%60%3Cdiv%3E%0A%20%20%20%20%20%20%20%20%20%20%20%20%20%20%20%20%20%20%20%20%20Virgin%20Play%0A%20%20%20%20%20%20%20%20%20%20%20%20%20%20%20%20%20%3C/div%3E%60%2C%0A%20%20%20%20%20%20%20%20%20%20%20%20%20%20%20%20%7B%22sticky%22%3A%20true%7D%0A%20%20%20%20%20%20%20%20%20%20%20%20%29%3B%0A%20%20%20%20%20%20%20%20%0A%20%20%20%20%0A%20%20%20%20%20%20%20%20%20%20%20%20var%20marker_b1367ae7f4dc4408b786841d596ad242%20%3D%20L.marker%28%0A%20%20%20%20%20%20%20%20%20%20%20%20%20%20%20%20%5B40.6367104%2C%20-3.9980485%5D%2C%0A%20%20%20%20%20%20%20%20%20%20%20%20%20%20%20%20%7B%7D%0A%20%20%20%20%20%20%20%20%20%20%20%20%29.addTo%28map_a0ea76f4661942ca906bb63bd00edf8c%29%3B%0A%20%20%20%20%20%20%20%20%0A%20%20%20%20%0A%20%20%20%20%20%20%20%20%20%20%20%20var%20icon_2a954e048f1345e2b62ed79135760c87%20%3D%20L.AwesomeMarkers.icon%28%0A%20%20%20%20%20%20%20%20%20%20%20%20%20%20%20%20%7B%22extraClasses%22%3A%20%22fa-rotate-0%22%2C%20%22icon%22%3A%20%22gamepad%22%2C%20%22iconColor%22%3A%20%22black%22%2C%20%22markerColor%22%3A%20%22green%22%2C%20%22opacity%22%3A%200.3%2C%20%22prefix%22%3A%20%22fa%22%7D%0A%20%20%20%20%20%20%20%20%20%20%20%20%29%3B%0A%20%20%20%20%20%20%20%20%20%20%20%20marker_b1367ae7f4dc4408b786841d596ad242.setIcon%28icon_2a954e048f1345e2b62ed79135760c87%29%3B%0A%20%20%20%20%20%20%20%20%0A%20%20%20%20%0A%20%20%20%20%20%20%20%20%20%20%20%20marker_b1367ae7f4dc4408b786841d596ad242.bindTooltip%28%0A%20%20%20%20%20%20%20%20%20%20%20%20%20%20%20%20%60%3Cdiv%3E%0A%20%20%20%20%20%20%20%20%20%20%20%20%20%20%20%20%20%20%20%20%20Undead%20Code%20Studios%0A%20%20%20%20%20%20%20%20%20%20%20%20%20%20%20%20%20%3C/div%3E%60%2C%0A%20%20%20%20%20%20%20%20%20%20%20%20%20%20%20%20%7B%22sticky%22%3A%20true%7D%0A%20%20%20%20%20%20%20%20%20%20%20%20%29%3B%0A%20%20%20%20%20%20%20%20%0A%3C/script%3E onload=\"this.contentDocument.open();this.contentDocument.write(    decodeURIComponent(this.getAttribute('data-html')));this.contentDocument.close();\" allowfullscreen webkitallowfullscreen mozallowfullscreen></iframe></div></div>"
      ],
      "text/plain": [
       "<folium.folium.Map at 0x7f74c9add130>"
      ]
     },
     "execution_count": 12,
     "metadata": {},
     "output_type": "execute_result"
    }
   ],
   "source": [
    "for i,row in competitors_df.iterrows():\n",
    "    \n",
    "    icono = Icon(color      = \"green\",\n",
    "                 opacity    = 0.3    ,\n",
    "                 prefix     = \"fa\"   ,\n",
    "                 icon       = \"gamepad\" ,\n",
    "                 icon_color = \"black\")\n",
    "    \n",
    "    distrito = {\"location\": [row[\"latitude\"], row[\"longitude\"]], \"tooltip\": row[\"name\"]}\n",
    "    mark = Marker(**distrito, icon=icono)\n",
    "    mark.add_to(map)\n",
    "map"
   ]
  },
  {
   "cell_type": "code",
   "execution_count": 13,
   "id": "f23194a2",
   "metadata": {},
   "outputs": [],
   "source": [
    "map.save(\"output/01_Potential_locations_identification_(competitors_in_Madrid).html\")"
   ]
  }
 ],
 "metadata": {
  "kernelspec": {
   "display_name": "ironhack",
   "language": "python",
   "name": "ironhack"
  },
  "language_info": {
   "codemirror_mode": {
    "name": "ipython",
    "version": 3
   },
   "file_extension": ".py",
   "mimetype": "text/x-python",
   "name": "python",
   "nbconvert_exporter": "python",
   "pygments_lexer": "ipython3",
   "version": "3.8.5"
  }
 },
 "nbformat": 4,
 "nbformat_minor": 5
}
